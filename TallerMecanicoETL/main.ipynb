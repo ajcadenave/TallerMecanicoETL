{
 "cells": [
  {
   "cell_type": "markdown",
   "metadata": {},
   "source": [
    "Importación de paquetes "
   ]
  },
  {
   "cell_type": "code",
   "execution_count": 1,
   "metadata": {},
   "outputs": [],
   "source": [
    "import pandas as pd\n",
    "from utils import connection as con\n",
    "from etl import extract as ex\n",
    "from etl import load\n",
    "from etl import transform"
   ]
  },
  {
   "cell_type": "markdown",
   "metadata": {},
   "source": [
    "Instanciar las conexión a la BD y DW"
   ]
  },
  {
   "cell_type": "code",
   "execution_count": 2,
   "metadata": {},
   "outputs": [],
   "source": [
    "conn_taller_db = con.connect_taller_db()\n",
    "conn_taller_dw = con.connect_taller_dw()"
   ]
  },
  {
   "cell_type": "markdown",
   "metadata": {},
   "source": [
    "Se extrae los datos de la BD"
   ]
  },
  {
   "cell_type": "code",
   "execution_count": 3,
   "metadata": {},
   "outputs": [],
   "source": [
    "df_vehiculo = ex.extract_table(\"vehiculo\", conn_taller_db)\n",
    "df_orden_de_trabajo = ex.extract_table(\"orden_de_trabajo\", conn_taller_db)\n",
    "df_mecanico = ex.extract_table(\"mecanico\", conn_taller_db)\n",
    "df_mano_de_obra = ex.extract_table(\"mano_de_obra\", conn_taller_db)\n",
    "df_articulo = ex.extract_table(\"articulo\", conn_taller_db)\n",
    "df_materiales = ex.extract_table(\"materiales\", conn_taller_db)"
   ]
  },
  {
   "cell_type": "markdown",
   "metadata": {},
   "source": [
    "Transformar datos de vehiculos"
   ]
  },
  {
   "cell_type": "code",
   "execution_count": 4,
   "metadata": {},
   "outputs": [],
   "source": [
    "df_dimension_vehiculo = transform.transform_materiales_vehiculo(df_vehiculo)"
   ]
  },
  {
   "cell_type": "markdown",
   "metadata": {},
   "source": [
    "Cargar la dimension de vehiculos "
   ]
  },
  {
   "cell_type": "code",
   "execution_count": 5,
   "metadata": {},
   "outputs": [],
   "source": [
    "load.load_dw_taller('dimension_vehiculo', conn_taller_dw, df_dimension_vehiculo[['idvehiculo','marca','pais']])"
   ]
  },
  {
   "cell_type": "markdown",
   "metadata": {},
   "source": [
    "Se transforman los datos de orden de trabajo"
   ]
  },
  {
   "cell_type": "code",
   "execution_count": 6,
   "metadata": {},
   "outputs": [],
   "source": [
    "df_orden_completo = transform.transform_orden_trabajo(df_mano_de_obra, df_materiales, df_orden_de_trabajo)"
   ]
  },
  {
   "cell_type": "markdown",
   "metadata": {},
   "source": [
    "Se carga el echo orden de trabajo"
   ]
  },
  {
   "cell_type": "code",
   "execution_count": 7,
   "metadata": {},
   "outputs": [],
   "source": [
    "load.load_dw_taller('echo_orden_de_trabajo', conn_taller_dw, df_orden_completo[['idorden_de_trabajo','fecha_creacion','costo_total','costo_mano_obra','costo_materiales','dia_fecha_creacion','mes_fecha_creacion','año_fecha_creacion','idvehiculo']])"
   ]
  },
  {
   "cell_type": "markdown",
   "metadata": {},
   "source": [
    "Se carga transforma los datos de materiales"
   ]
  },
  {
   "cell_type": "code",
   "execution_count": 8,
   "metadata": {},
   "outputs": [],
   "source": [
    "df_dimension_materiales = transform.transform_materiales(df_materiales, df_articulo)"
   ]
  },
  {
   "cell_type": "markdown",
   "metadata": {},
   "source": [
    "Se carga los datos de la dimension materiales"
   ]
  },
  {
   "cell_type": "code",
   "execution_count": null,
   "metadata": {},
   "outputs": [],
   "source": [
    "load.load_dw_taller('dimension_materiales', conn_taller_dw, df_dimension_materiales[['idmateriales','descripcion_articulo','cantidad','costo_unitario','total','idorden_de_trabajo']])"
   ]
  },
  {
   "cell_type": "markdown",
   "metadata": {},
   "source": [
    "Se transforma los datos de mano de obra"
   ]
  },
  {
   "cell_type": "code",
   "execution_count": 9,
   "metadata": {},
   "outputs": [],
   "source": [
    "df_dimension_mano_de_obra = transform.transform_materiales_mano_de_obra(df_mano_de_obra, df_mecanico)"
   ]
  },
  {
   "cell_type": "markdown",
   "metadata": {},
   "source": [
    "Se carga los datos de la dimension mano de obra"
   ]
  },
  {
   "cell_type": "code",
   "execution_count": 10,
   "metadata": {},
   "outputs": [],
   "source": [
    "load.load_dw_taller('dimension_mano_de_obra', conn_taller_dw, df_dimension_mano_de_obra[['idmano_de_obra','nombre_completo','descripcion','horas_trabajadas','costo_por_hora','total','idorden_de_trabajo']])"
   ]
  }
 ],
 "metadata": {
  "kernelspec": {
   "display_name": "Python 3",
   "language": "python",
   "name": "python3"
  },
  "language_info": {
   "codemirror_mode": {
    "name": "ipython",
    "version": 3
   },
   "file_extension": ".py",
   "mimetype": "text/x-python",
   "name": "python",
   "nbconvert_exporter": "python",
   "pygments_lexer": "ipython3",
   "version": "3.10.13"
  }
 },
 "nbformat": 4,
 "nbformat_minor": 2
}
